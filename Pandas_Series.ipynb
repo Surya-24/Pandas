{
  "nbformat": 4,
  "nbformat_minor": 0,
  "metadata": {
    "colab": {
      "name": "Pandas_Series.ipynb",
      "provenance": []
    },
    "kernelspec": {
      "name": "python3",
      "display_name": "Python 3"
    },
    "language_info": {
      "name": "python"
    }
  },
  "cells": [
    {
      "cell_type": "code",
      "metadata": {
        "id": "FW6PJVLEEf6y"
      },
      "source": [
        "import pandas as pd\n",
        "import numpy as np"
      ],
      "execution_count": 1,
      "outputs": []
    },
    {
      "cell_type": "markdown",
      "metadata": {
        "id": "2yQ_290UFRyX"
      },
      "source": [
        "#Pandas Series"
      ]
    },
    {
      "cell_type": "code",
      "metadata": {
        "colab": {
          "base_uri": "https://localhost:8080/"
        },
        "id": "j2AJesQhEuEG",
        "outputId": "58e6148d-70fb-41a7-97be-077f132cf307"
      },
      "source": [
        "g7 = pd.Series([12.3,23,32.1,12,23.43,34.32,14.3])\n",
        "g7"
      ],
      "execution_count": 2,
      "outputs": [
        {
          "output_type": "execute_result",
          "data": {
            "text/plain": [
              "0    12.30\n",
              "1    23.00\n",
              "2    32.10\n",
              "3    12.00\n",
              "4    23.43\n",
              "5    34.32\n",
              "6    14.30\n",
              "dtype: float64"
            ]
          },
          "metadata": {},
          "execution_count": 2
        }
      ]
    },
    {
      "cell_type": "code",
      "metadata": {
        "colab": {
          "base_uri": "https://localhost:8080/"
        },
        "id": "JyRMM11LEmUY",
        "outputId": "acb26cd8-3625-463d-abcf-094c40608874"
      },
      "source": [
        "g7.name = 'Population of 7 States'\n",
        "g7"
      ],
      "execution_count": 9,
      "outputs": [
        {
          "output_type": "execute_result",
          "data": {
            "text/plain": [
              "AP    12.30\n",
              "TS    23.00\n",
              "UP    32.10\n",
              "DL    12.00\n",
              "TN    23.43\n",
              "KL    34.32\n",
              "MP    14.30\n",
              "Name: Population of 7 States, dtype: float64"
            ]
          },
          "metadata": {},
          "execution_count": 9
        }
      ]
    },
    {
      "cell_type": "code",
      "metadata": {
        "colab": {
          "base_uri": "https://localhost:8080/"
        },
        "id": "CHfBXBxqGG1p",
        "outputId": "9d89968d-7a86-47ac-a255-47e8ffc7e5c8"
      },
      "source": [
        "g7.values"
      ],
      "execution_count": 4,
      "outputs": [
        {
          "output_type": "execute_result",
          "data": {
            "text/plain": [
              "array([12.3 , 23.  , 32.1 , 12.  , 23.43, 34.32, 14.3 ])"
            ]
          },
          "metadata": {},
          "execution_count": 4
        }
      ]
    },
    {
      "cell_type": "code",
      "metadata": {
        "colab": {
          "base_uri": "https://localhost:8080/"
        },
        "id": "TqCQSDDmGSXx",
        "outputId": "80dbbc5f-013c-4968-8096-cee561ad30a9"
      },
      "source": [
        "g7[0]"
      ],
      "execution_count": 5,
      "outputs": [
        {
          "output_type": "execute_result",
          "data": {
            "text/plain": [
              "12.3"
            ]
          },
          "metadata": {},
          "execution_count": 5
        }
      ]
    },
    {
      "cell_type": "code",
      "metadata": {
        "colab": {
          "base_uri": "https://localhost:8080/"
        },
        "id": "RaIsPVDRGinx",
        "outputId": "a49bed5b-4d5b-4a83-8bb8-e2f2ba49a143"
      },
      "source": [
        "g7.index"
      ],
      "execution_count": 6,
      "outputs": [
        {
          "output_type": "execute_result",
          "data": {
            "text/plain": [
              "RangeIndex(start=0, stop=7, step=1)"
            ]
          },
          "metadata": {},
          "execution_count": 6
        }
      ]
    },
    {
      "cell_type": "code",
      "metadata": {
        "id": "-E2IBhksGpmU"
      },
      "source": [
        "g7.index=[\n",
        "          'AP',\n",
        "          'TS',\n",
        "          'UP',\n",
        "          'DL',\n",
        "          'TN',\n",
        "          'KL',\n",
        "          'MP'\n",
        "]"
      ],
      "execution_count": 7,
      "outputs": []
    },
    {
      "cell_type": "code",
      "metadata": {
        "colab": {
          "base_uri": "https://localhost:8080/"
        },
        "id": "MBsbGy9hHcAR",
        "outputId": "cc7cfe26-17f1-47aa-d03c-f5d4dceb7bbc"
      },
      "source": [
        "g7"
      ],
      "execution_count": 10,
      "outputs": [
        {
          "output_type": "execute_result",
          "data": {
            "text/plain": [
              "AP    12.30\n",
              "TS    23.00\n",
              "UP    32.10\n",
              "DL    12.00\n",
              "TN    23.43\n",
              "KL    34.32\n",
              "MP    14.30\n",
              "Name: Population of 7 States, dtype: float64"
            ]
          },
          "metadata": {},
          "execution_count": 10
        }
      ]
    },
    {
      "cell_type": "code",
      "metadata": {
        "colab": {
          "base_uri": "https://localhost:8080/"
        },
        "id": "8rJr97OfHdLU",
        "outputId": "9076126b-8030-4d9d-a4d7-dd1e3ae5efab"
      },
      "source": [
        "# we can create Series this way also instead of two step process\n",
        "x = pd.Series({\n",
        "               'ap':100,\n",
        "               'pa':200,\n",
        "               'mp':300,\n",
        "               'pm':400\n",
        "}, name = 'Population of 4 States')\n",
        "x"
      ],
      "execution_count": 14,
      "outputs": [
        {
          "output_type": "execute_result",
          "data": {
            "text/plain": [
              "ap    100\n",
              "pa    200\n",
              "mp    300\n",
              "pm    400\n",
              "Name: Population of 4 States, dtype: int64"
            ]
          },
          "metadata": {},
          "execution_count": 14
        }
      ]
    },
    {
      "cell_type": "markdown",
      "metadata": {
        "id": "IreVo-7OIwGn"
      },
      "source": [
        "Advantage of Series: It is orderd<br>\n",
        "Indexing of Series"
      ]
    },
    {
      "cell_type": "code",
      "metadata": {
        "colab": {
          "base_uri": "https://localhost:8080/"
        },
        "id": "RBtOQI7nIdIg",
        "outputId": "3f11739a-c4fd-4134-c2b0-8f887f132de9"
      },
      "source": [
        "x['ap'] #Similar to list or dictionary"
      ],
      "execution_count": 15,
      "outputs": [
        {
          "output_type": "execute_result",
          "data": {
            "text/plain": [
              "100"
            ]
          },
          "metadata": {},
          "execution_count": 15
        }
      ]
    },
    {
      "cell_type": "code",
      "metadata": {
        "colab": {
          "base_uri": "https://localhost:8080/"
        },
        "id": "CZU8-Iq4I2hD",
        "outputId": "27302737-88e9-4a17-acf5-e06f55f5a665"
      },
      "source": [
        "x.iloc[0]"
      ],
      "execution_count": 16,
      "outputs": [
        {
          "output_type": "execute_result",
          "data": {
            "text/plain": [
              "100"
            ]
          },
          "metadata": {},
          "execution_count": 16
        }
      ]
    },
    {
      "cell_type": "code",
      "metadata": {
        "colab": {
          "base_uri": "https://localhost:8080/"
        },
        "id": "0H8dghDnJdZL",
        "outputId": "2bfeecaa-1f05-47d1-8f44-eb18c4a4c7de"
      },
      "source": [
        "x.iloc[-1]"
      ],
      "execution_count": 17,
      "outputs": [
        {
          "output_type": "execute_result",
          "data": {
            "text/plain": [
              "400"
            ]
          },
          "metadata": {},
          "execution_count": 17
        }
      ]
    },
    {
      "cell_type": "code",
      "metadata": {
        "colab": {
          "base_uri": "https://localhost:8080/"
        },
        "id": "-REehylGJfIt",
        "outputId": "ee9ed8fe-59ae-49b8-b542-238469549e68"
      },
      "source": [
        "g7.iloc[[0,2,-1]]"
      ],
      "execution_count": 20,
      "outputs": [
        {
          "output_type": "execute_result",
          "data": {
            "text/plain": [
              "AP    12.3\n",
              "UP    32.1\n",
              "MP    14.3\n",
              "Name: Population of 7 States, dtype: float64"
            ]
          },
          "metadata": {},
          "execution_count": 20
        }
      ]
    },
    {
      "cell_type": "code",
      "metadata": {
        "colab": {
          "base_uri": "https://localhost:8080/"
        },
        "id": "agIR5B1qJl7i",
        "outputId": "8d83c48d-cfaa-4378-90d9-e3b3b3e205fa"
      },
      "source": [
        "g7[['AP','UP','MP']]"
      ],
      "execution_count": 21,
      "outputs": [
        {
          "output_type": "execute_result",
          "data": {
            "text/plain": [
              "AP    12.3\n",
              "UP    32.1\n",
              "MP    14.3\n",
              "Name: Population of 7 States, dtype: float64"
            ]
          },
          "metadata": {},
          "execution_count": 21
        }
      ]
    },
    {
      "cell_type": "code",
      "metadata": {
        "colab": {
          "base_uri": "https://localhost:8080/"
        },
        "id": "j_rn7-jeJ1-A",
        "outputId": "c5ca63c1-62cf-4cae-83fd-b0e485dec778"
      },
      "source": [
        "g7['AP':'UP'] #here we see that upper limit is included"
      ],
      "execution_count": 23,
      "outputs": [
        {
          "output_type": "execute_result",
          "data": {
            "text/plain": [
              "AP    12.3\n",
              "TS    23.0\n",
              "UP    32.1\n",
              "Name: Population of 7 States, dtype: float64"
            ]
          },
          "metadata": {},
          "execution_count": 23
        }
      ]
    },
    {
      "cell_type": "markdown",
      "metadata": {
        "id": "X1wHpyAIeqhP"
      },
      "source": [
        "#Conditional Selection (Boolean Serires)"
      ]
    },
    {
      "cell_type": "code",
      "metadata": {
        "colab": {
          "base_uri": "https://localhost:8080/"
        },
        "id": "fVSzt_2SJ-PH",
        "outputId": "2ea3c1b9-c849-4400-b01a-e118a07e60e0"
      },
      "source": [
        "g7>20"
      ],
      "execution_count": 25,
      "outputs": [
        {
          "output_type": "execute_result",
          "data": {
            "text/plain": [
              "AP    False\n",
              "TS     True\n",
              "UP     True\n",
              "DL    False\n",
              "TN     True\n",
              "KL     True\n",
              "MP    False\n",
              "Name: Population of 7 States, dtype: bool"
            ]
          },
          "metadata": {},
          "execution_count": 25
        }
      ]
    },
    {
      "cell_type": "code",
      "metadata": {
        "colab": {
          "base_uri": "https://localhost:8080/"
        },
        "id": "QpXv3SwSe20z",
        "outputId": "adae37ad-573e-45e3-e265-43646fff1862"
      },
      "source": [
        "g7[g7>20]"
      ],
      "execution_count": 26,
      "outputs": [
        {
          "output_type": "execute_result",
          "data": {
            "text/plain": [
              "TS    23.00\n",
              "UP    32.10\n",
              "TN    23.43\n",
              "KL    34.32\n",
              "Name: Population of 7 States, dtype: float64"
            ]
          },
          "metadata": {},
          "execution_count": 26
        }
      ]
    },
    {
      "cell_type": "code",
      "metadata": {
        "colab": {
          "base_uri": "https://localhost:8080/"
        },
        "id": "jJKIu8lahW97",
        "outputId": "5831be1f-2b02-43d3-abbf-54ebdacfc4df"
      },
      "source": [
        "g7[(g7>20)|(g7<25)]"
      ],
      "execution_count": 27,
      "outputs": [
        {
          "output_type": "execute_result",
          "data": {
            "text/plain": [
              "AP    12.30\n",
              "TS    23.00\n",
              "UP    32.10\n",
              "DL    12.00\n",
              "TN    23.43\n",
              "KL    34.32\n",
              "MP    14.30\n",
              "Name: Population of 7 States, dtype: float64"
            ]
          },
          "metadata": {},
          "execution_count": 27
        }
      ]
    },
    {
      "cell_type": "code",
      "metadata": {
        "colab": {
          "base_uri": "https://localhost:8080/"
        },
        "id": "sIYbS-sdhiQQ",
        "outputId": "5a74a8c6-59d8-4828-9e10-d095ace62aa9"
      },
      "source": [
        "g7[(g7>20)&(g7<25)]"
      ],
      "execution_count": 28,
      "outputs": [
        {
          "output_type": "execute_result",
          "data": {
            "text/plain": [
              "TS    23.00\n",
              "TN    23.43\n",
              "Name: Population of 7 States, dtype: float64"
            ]
          },
          "metadata": {},
          "execution_count": 28
        }
      ]
    },
    {
      "cell_type": "code",
      "metadata": {
        "colab": {
          "base_uri": "https://localhost:8080/"
        },
        "id": "KxA5BawYhklp",
        "outputId": "729b162e-aa01-46d6-8330-85f37df71192"
      },
      "source": [
        "g7['AP'] = 100\n",
        "g7"
      ],
      "execution_count": 30,
      "outputs": [
        {
          "output_type": "execute_result",
          "data": {
            "text/plain": [
              "AP    100.00\n",
              "TS     23.00\n",
              "UP     32.10\n",
              "DL     12.00\n",
              "TN     23.43\n",
              "KL     34.32\n",
              "MP     14.30\n",
              "Name: Population of 7 States, dtype: float64"
            ]
          },
          "metadata": {},
          "execution_count": 30
        }
      ]
    },
    {
      "cell_type": "code",
      "metadata": {
        "colab": {
          "base_uri": "https://localhost:8080/"
        },
        "id": "BFsmWjOchu2I",
        "outputId": "2ea5a9b9-15b3-4ba4-ccf4-b7a5ffa2be0a"
      },
      "source": [
        "g7[-1] = 99\n",
        "g7"
      ],
      "execution_count": 32,
      "outputs": [
        {
          "output_type": "execute_result",
          "data": {
            "text/plain": [
              "AP    100.00\n",
              "TS     23.00\n",
              "UP     32.10\n",
              "DL     12.00\n",
              "TN     23.43\n",
              "KL     34.32\n",
              "MP     99.00\n",
              "Name: Population of 7 States, dtype: float64"
            ]
          },
          "metadata": {},
          "execution_count": 32
        }
      ]
    },
    {
      "cell_type": "code",
      "metadata": {
        "colab": {
          "base_uri": "https://localhost:8080/"
        },
        "id": "rCLzEMR-h0-j",
        "outputId": "0af0b993-fffb-428b-9bb3-2ced1995a9c5"
      },
      "source": [
        "g7[g7<25] = 26\n",
        "g7"
      ],
      "execution_count": 33,
      "outputs": [
        {
          "output_type": "execute_result",
          "data": {
            "text/plain": [
              "AP    100.00\n",
              "TS     26.00\n",
              "UP     32.10\n",
              "DL     26.00\n",
              "TN     26.00\n",
              "KL     34.32\n",
              "MP     99.00\n",
              "Name: Population of 7 States, dtype: float64"
            ]
          },
          "metadata": {},
          "execution_count": 33
        }
      ]
    },
    {
      "cell_type": "code",
      "metadata": {
        "id": "27AfacPeh-Qb"
      },
      "source": [
        ""
      ],
      "execution_count": null,
      "outputs": []
    }
  ]
}